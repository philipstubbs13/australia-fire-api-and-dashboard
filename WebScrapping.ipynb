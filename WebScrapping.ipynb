{
 "cells": [
  {
   "cell_type": "code",
   "execution_count": 90,
   "metadata": {},
   "outputs": [],
   "source": [
    "import pymongo\n",
    "from bs4 import BeautifulSoup\n",
    "import requests\n",
    "import pandas as pd"
   ]
  },
  {
   "cell_type": "code",
   "execution_count": 22,
   "metadata": {},
   "outputs": [],
   "source": [
    "conn = 'mongodb://localhost:27017'\n",
    "client = pymongo.MongoClient(conn)\n",
    "\n",
    "db = client.australianBushfireDB\n",
    "bushfiresbyState = db.bushfiresbyState\n",
    "historicalFires = db.historicalFires"
   ]
  },
  {
   "cell_type": "code",
   "execution_count": 23,
   "metadata": {},
   "outputs": [],
   "source": [
    "byStateurl = 'https://en.wikipedia.org/wiki/List_of_fires_and_impacts_of_the_2019-20_Australian_bushfire_season'\n",
    "historicalurl = 'https://en.wikipedia.org/wiki/List_of_major_bushfires_in_Australia'"
   ]
  },
  {
   "cell_type": "code",
   "execution_count": 24,
   "metadata": {},
   "outputs": [],
   "source": [
    "historicalresponse = requests.get(historicalurl)"
   ]
  },
  {
   "cell_type": "code",
   "execution_count": 25,
   "metadata": {},
   "outputs": [],
   "source": [
    "soup = BeautifulSoup(historicalresponse.text, 'html.parser')"
   ]
  },
  {
   "cell_type": "code",
   "execution_count": 77,
   "metadata": {},
   "outputs": [],
   "source": [
    "table = soup.find('table', class_=\"wikitable\")\n",
    "header_row = soup.find('tr')\n",
    "table_headers = header_row.find_all(\"th\")\n",
    "# table_headers = table_head.find_all('th', class_=\"headerSort\")\n",
    "table_body = table.find(\"tbody\")"
   ]
  },
  {
   "cell_type": "code",
   "execution_count": 82,
   "metadata": {},
   "outputs": [
    {
     "name": "stdout",
     "output_type": "stream",
     "text": [
      "['Date', 'Name or description', 'State(s) /territories', 'Area burned (approx.)', 'Fatalities', 'Properties damaged', 'Notes']\n",
      "7\n"
     ]
    }
   ],
   "source": [
    "# table_headers = table_head.find('tr')\n",
    "headers = []\n",
    "for table_header in table_headers:\n",
    "    try:\n",
    "        value = table_header.text\n",
    "        value = value.split(\"\\n\")\n",
    "        headers.append(value[0])\n",
    "        \n",
    "    except AttributeError as e:\n",
    "        print(e)\n",
    "        \n",
    "print(headers)\n",
    "print(len(headers))"
   ]
  },
  {
   "cell_type": "code",
   "execution_count": 86,
   "metadata": {},
   "outputs": [],
   "source": [
    "table_row = table_body.find_all('tr')"
   ]
  },
  {
   "cell_type": "code",
   "execution_count": 89,
   "metadata": {},
   "outputs": [
    {
     "name": "stdout",
     "output_type": "stream",
     "text": [
      "['\\nDate\\n\\nName or description\\n\\nState(s) /territories\\n\\nArea burned (approx.)\\n\\nFatalities\\n\\nProperties damaged\\n\\nNotes\\n', '\\nha\\n\\nacres\\n\\nHomes(destroyed)\\n\\nOther buildings\\n\\nOther damage\\n', '\\n6 February 1851\\n\\nBlack Thursday bushfires\\n\\nVictoria\\n\\n5,000,000\\n\\n12,000,000\\n\\napprox. 12\\n\\nNil\\n\\nNil\\n\\n1 million sheepthousands of cattle\\n\\n[7][8]\\n', '\\n1 February 1898\\n\\nRed Tuesday bushfires\\n\\nVictoria\\n\\n260,000\\n\\n640,000\\n\\n12\\n\\nNil\\n\\n2,000\\n\\n\\n\\n[8][9][10]\\n', '\\nFebruary – March 1926\\n\\n1926 bushfires\\n\\nVictoria\\n\\n390,000\\n\\n960,000\\n\\n60\\n\\n1,000\\n\\nNil\\n\\n\\n\\n[11]\\n', '\\nDecember 1938 – January 1939\\n\\nBlack Friday bushfires\\n\\nVictoria\\n\\n2,000,000\\n\\n4,900,000\\n\\n71\\n\\n3,700\\n\\nNil\\n\\n\\n\\n[5]\\n', '\\n14 January – 14 February 1944\\n\\n1944 Victorian bushfires\\n\\nVictoria\\n\\n1,000,000\\n\\n2,500,000\\n\\n15–20\\n\\napprox. 500\\n\\nNil\\n\\n\\n\\n[8]\\n', '\\n18 November 1944\\n\\n1944 Blue Mountains bushfire\\n\\nNew South Wales\\n\\n\\n\\n\\n\\nNil\\n\\napprox. 40\\n\\nNil\\n\\n\\n\\n[12][13]\\n', '\\nNovember 1951 – January 1952\\n\\n1951–52 bushfires\\n\\nVictoria\\n\\n4,000,000\\n\\n9,900,000\\n\\n11\\n\\nNil\\n\\nNil\\n\\n\\n\\n[14]\\n', '\\n2 January 1955\\n\\nBlack Sunday bushfires\\n\\nSouth Australia\\n\\n39,000–160,000\\n\\n96,000–395,000\\n\\n2\\n\\n40[b]\\n\\nNil\\n\\n\\n\\n[15][16]\\n', '\\n30 November 1957\\n\\n1957 Grose Valley bushfire, Blue Mountains\\n\\nNew South Wales\\n\\n\\n\\n\\n\\n4\\n\\nNil\\n\\nNil\\n\\n\\n\\n[citation needed]\\n', '\\n2 December 1957\\n\\n1957 Leura bushfire, Blue Mountains\\n\\nNew South Wales\\n\\n\\n\\n\\n\\nNil\\n\\n170[c]\\n\\nNil\\n\\n\\n\\n[citation needed]\\n', '\\nJanuary – March 1961\\n\\n1961 Western Australian bushfires\\n\\nWestern Australia\\n\\n1,800,000\\n\\n4,400,000\\n\\nNil\\n\\n160\\n\\nNil\\n\\n\\n\\n[17]\\n', '\\n14 – 16 January 1962\\n\\n1962 Victorian bushfires\\n\\nVictoria\\n\\n\\n\\n\\n\\n32\\n\\n450\\n\\nNil\\n\\n\\n\\n[11]\\n', '\\n16 February – 13 March 1965\\n\\n1965 Gippsland bushfires\\n\\nVictoria\\n\\n315,000\\n\\n780,000\\n\\nNil\\n\\nmore than 20\\n\\n60\\n\\n4,000 livestock\\n\\n[18]\\n', '\\n5 – 14 March 1965\\n\\nSouthern Highlands bushfires\\n\\nNew South Wales\\n\\n251,000\\n\\n620,000\\n\\n3\\n\\n59\\n\\nNil\\n\\n\\n\\n[19]\\n', '\\n7 February 1967\\n\\nBlack Tuesday bushfires\\n\\nTasmania\\n\\n264,000\\n\\n650,000\\n\\n62\\n\\n1,293\\n\\nNil\\n\\n\\n\\n[8]\\n', '\\n1968 – 69[clarification needed]\\n\\n1968-69 Killarney Top Springs bushfires\\n\\nNorthern Territory\\n\\n40,000,000\\n\\n99,000,000\\n\\nNil\\n\\nNil\\n\\nNil\\n\\n\\n\\n[20]\\n', '\\n29 November 1968\\n\\n1968 Blue Mountains Bushfire\\n\\nNew South Wales\\n\\n\\n\\n\\n\\n4\\n\\napprox. 120\\n\\nNil\\n\\n\\n\\n[citation needed]\\n', '\\n8 January 1969\\n\\n1969 bushfires\\n\\nVictoria\\n\\n\\n\\n\\n\\n23\\n\\n230\\n\\nNil\\n\\n\\n\\n[11]\\n', '\\n1969 – 70[clarification needed]\\n\\n1969-70 Dry River-Victoria River fire\\n\\nNorthern Territory\\n\\n45,000,000\\n\\n110,000,000\\n\\nNil\\n\\nNil\\n\\nNil\\n\\n\\n\\n[20]\\n', '\\n1974 – 1975 summer fire season(defined as October 1974 to February 1975 in Queensland only)\\n\\n1974-75 Australian bushfire season[d]\\n\\nNew South WalesNorthern TerritoryQueenslandSouth AustraliaWestern Australia\\n\\n117,000,000\\n\\n290,000,000\\n\\n6\\n\\nunknown\\n\\nunknown\\n\\n15% of Australia was burnt. The damage was mostly in central Australia and so it did not impact many communities. 57,000 farm animalsapproximately 10,200 kilometres (6,300\\xa0mi) of fencing\\n\\n[20][21][4][22][23][24][25][26][27]\\n', '\\n12 February 1977\\n\\nWestern Districts bushfires\\n\\nVictoria\\n\\n103,000\\n\\n250,000\\n\\n4\\n\\n116\\n\\n340\\n\\n\\n\\n[citation needed]\\n', '\\n17 December 1977\\n\\nBlue Mountains Fires 1977\\n\\nNew South Wales\\n\\n54,000\\n\\n130,000\\n\\n2\\n\\n49\\n\\nNil\\n\\n\\n\\n[citation needed]\\n', '\\n4 April 1978\\n\\n1978 Western Australian bushfires\\n\\nWestern Australia\\n\\n114,000\\n\\n280,000\\n\\n2\\n\\nNil\\n\\n6\\n\\n\\n\\n[citation needed]\\n', '\\nDecember 1979\\n\\n1979 Sydney bushfires\\n\\nNew South Wales\\n\\n\\n\\n\\n\\n5\\n\\n28\\n\\nNil\\n\\n\\n\\n[28]\\n', '\\n3 November 1980\\n\\n1980 Waterfall bushfire\\n\\nNew South Wales\\n\\n1,000,000\\n\\n2,500,000\\n\\n5[e]\\n\\n14\\n\\nNil\\n\\n\\n\\n[29]\\n', '\\n9 January 1983\\n\\nGrays Point bushfire\\n\\nNew South Wales\\n\\n\\n\\n\\n\\n3[f]\\n\\nNil\\n\\nNil\\n\\n\\n\\n[30]\\n', '\\n16 February 1983\\n\\nAsh Wednesday bushfires\\n\\n\\nSouth Australia\\nVictoria\\n\\n\\n418,000\\n\\n1,030,000\\n\\n75\\n\\napprox. 2,400\\n\\nNil\\n\\n\\n\\n[31][32]\\n', '\\n25 December 1984\\n\\n1984 Western New South Wales grasslands bushfires\\n\\nNew South Wales\\n\\n500,000\\n\\n1,200,000\\n\\nNil\\n\\nNil\\n\\nNil\\n\\n40,000 livestockA$40\\xa0million damages\\n\\n[23][24][25]\\n', '\\nMid-January 1985\\n\\n1985 Cobar bushfire\\n\\nNew South Wales\\n\\n516,000\\n\\n1,280,000\\n\\nNil\\n\\n[23][24]\\n', '\\n1984 – 1985 season[clarification needed]\\n\\n1984 - 85 New South Wales bushfires\\n\\nNew South Wales\\n\\n3,500,000\\n\\n8,600,000\\n\\n5\\n\\n[20][23][24][25][26][27]\\n', '\\n14 January 1985\\n\\nCentral Victoria bushfires\\n\\nVictoria\\n\\n50,800\\n\\n126,000\\n\\n3\\n\\n180\\n\\nNil\\n\\n\\n\\n[citation needed]\\n', '\\n27 December 1993 – 16 January 1994\\n\\n1994 Eastern seaboard fires\\n\\nNew South Wales\\n\\n400,000\\n\\n990,000\\n\\n4\\n\\n225\\n\\nNil\\n\\n\\n\\n[33]\\n', '\\n8 January 1997\\n\\nWooroloo bushfire\\n\\nWestern Australia\\n\\n10,500\\n\\n26,000\\n\\nNil\\n\\n16\\n\\nNil\\n\\n\\n\\n[citation needed]\\n', '\\n21 January 1997\\n\\nDandenongs bushfire\\n\\nVictoria\\n\\n400\\n\\n990\\n\\n3\\n\\n41\\n\\nNil\\n\\n\\n\\n[34]\\n', '\\n2 December 1997\\n\\nLithgow bushfire\\n\\nNew South Wales\\n\\n\\n\\n\\n\\n2[g]\\n\\nNil\\n\\nNil\\n\\n\\n\\n[34]\\n', '\\n2 December 1997\\n\\nMenai bushfire\\n\\nNew South Wales\\n\\n\\n\\n\\n\\n1[h]\\n\\n11\\n\\nNil\\n\\n\\n\\n[35]\\n', '\\n2 December 1997\\n\\nPerth and South-West Region bushfires\\n\\nWestern Australia\\n\\n23,000\\n\\n57,000\\n\\n2\\n\\n1\\n\\nNil\\n\\n\\n\\n[citation needed]\\n', '\\n2 December 1998\\n\\nLinton bushfire\\n\\nVictoria\\n\\n\\n\\n\\n\\n5[i]\\n\\nNil\\n\\nNil\\n\\n\\n\\n[36]\\n', '\\n25 December 2001 – 7 January 2002\\n\\nBlack Christmas bushfires\\n\\nNew South Wales\\n\\n753,314\\n\\n1,861,480\\n\\nNil\\n\\n121\\n\\nNil\\n\\n\\n\\n[37]\\n', '\\nAugust – November 2002\\n\\n2002 NT bushfires\\n\\nNorthern Territory\\n\\n38,000,000\\n\\n94,000,000\\n\\nNil\\n\\nNil\\n\\nNil\\n\\n\\n\\n[20]\\n', '\\n18 – 22 January 2003\\n\\n2003 Canberra bushfires\\n\\nAustralian Capital Territory\\n\\n160,000\\n\\n400,000\\n\\n4\\n\\napprox. 500\\n\\nNil\\n\\n\\n\\n[34]\\n', '\\n8 January – 8 March 2003\\n\\n2003 Eastern Victorian alpine bushfires\\n\\nVictoria\\n\\n1,300,000\\n\\n3,200,000\\n\\nNil\\n\\n41\\n\\n213\\n\\n10,000 livestock\\n\\n[38]\\n', '\\nDecember 2003\\n\\nTenterden\\n\\nWestern Australia\\n\\n2,110,000\\n\\n5,200,000\\n\\n2\\n\\nNil\\n\\nNil\\n\\n\\n\\n[citation needed]\\n', '\\n10 – 12 January 2005\\n\\n2005 Eyre Peninsula bushfire\\n\\nSouth Australia\\n\\n77,964\\n\\n192,650\\n\\n9\\n\\n93\\n\\nNil\\n\\n\\n\\n[39]\\n', '\\nNew Years Day 2006\\n\\nJail Break Inn Fire, Junee\\n\\nNew South Wales\\n\\n30,000\\n\\n74,000\\n\\nNil\\n\\n7\\n\\n4\\n\\n20,000 livestock7 headers1,500 kilometres (930\\xa0mi) of fencing\\n\\n[40][41]\\n', '\\nDecember 2005 – January 2006\\n\\n2005 Victorian bushfires\\n\\nVictoria\\n\\n160,000\\n\\n400,000\\n\\n4\\n\\n57\\n\\n359\\n\\n65,000 livestock\\n\\n[42]\\n', '\\nJanuary 2006\\n\\nGrampians bushfire\\n\\nVictoria\\n\\n184,000\\n\\n450,000\\n\\n2\\n\\nNil\\n\\nNil\\n\\n\\n\\n[43][44]\\n', '\\n6 February 2006\\n\\nPulletop bushfire, Wagga Wagga\\n\\nNew South Wales\\n\\n9,000\\n\\n22,000\\n\\nNil\\n\\nNil\\n\\n2\\n\\n2,500 livestock3 vehicles50 kilometres (31\\xa0mi) of fencing\\n\\n[45]\\n', '\\n1 December 2006 –  March 2007\\n\\nThe Great Divides bushfire\\n\\nVictoria\\n\\n1,048,000\\n\\n2,590,000\\n\\n1\\n\\n51\\n\\nNil\\n\\n\\n\\n[citation needed]\\n', '\\nSeptember 2006 – January 2007\\n\\n2006–07 Australian bushfire season\\n\\n\\nNew South Wales\\nSouth Australia\\nTasmania\\nVictoria\\nWestern Australia\\n\\n\\n1,360,000\\n\\n3,400,000\\n\\n5\\n\\n83\\n\\napprox. 20\\n\\n\\n\\n[46][47][48][49][50][51][52]\\n', '\\n4 February 2007\\n\\nDwellingup bushfire\\n\\nWestern Australia\\n\\n12,000\\n\\n30,000\\n\\nNil\\n\\n16\\n\\nNil\\n\\n\\n\\n[citation needed]\\n', '\\n6 – 14 December 2007\\n\\n2007 Kangaroo Island bushfires\\n\\nSouth Australia\\n\\n95,000\\n\\n230,000\\n\\n1\\n\\nNil\\n\\nNil\\n\\n\\n\\n[53]\\n', '\\n30 December 2007\\n\\nBoorabbin National Park\\n\\nWestern Australia\\n\\n40,000\\n\\n99,000\\n\\n3\\n\\nNil\\n\\nNil\\n\\nPowerlinesGreat Eastern Highway was closed for 2 weeks\\n\\n[citation needed]\\n', '\\n7 February – 14 March 2009\\n\\nBlack Saturday bushfires\\n\\nVictoria\\n\\n450,000\\n\\n1,100,000\\n\\n173\\n\\n2,029\\n\\n2,000\\n\\n\\n\\n[3][54][55][56][57]\\n', '\\n4 January 2013\\n\\nTasmanian bushfires\\n\\nTasmania\\n\\n20,000\\n\\n49,000\\n\\n1\\n\\nNil\\n\\n170\\n\\n\\n\\n[58]\\n', '\\n18 January 2013\\n\\nWarrumbungle bushfire\\n\\nNew South Wales\\n\\n54,000\\n\\n130,000\\n\\nNil\\n\\n53\\n\\n118\\n\\nAgricultural machinery and livestockInfrastructure at Siding Spring Observatory\\n\\n[59]\\n', '\\n17 – 28 October 2013\\n\\n2013 New South Wales bushfires\\n\\nNew South Wales\\n\\n100,000\\n\\n250,000\\n\\n1\\n\\n208\\n\\n40\\n\\n\\n\\n[60][61][62]\\n', '\\n27 December 2011 – 3 February 2012\\n\\nCarnarvon bushfire complex\\n\\nWestern Australia\\n\\n800,000\\n\\n2,000,000\\n\\nNil\\n\\nNil\\n\\nNil\\n\\n11 pastoral stations(fences, watering systems, water points, stock feed)\\n\\n[citation needed]\\n', '\\n2 – 9 January 2015\\n\\n2015 Sampson Flat bushfires\\n\\nSouth Australia\\n\\n20,000\\n\\n49,000\\n\\nNil\\n\\n27\\n\\n140\\n\\n\\n\\n[63]\\n', \"\\n29 January – 20 February 2015\\n\\n2015 O'Sullivan bushfire (Northcliffe – Windy Harbour)\\n\\nWestern Australia\\n\\n98,923\\n\\n244,440\\n\\nNil\\n\\n2\\n\\n5\\n\\nThousands of hectares of production forests (karri and jarrah) or national parks\\n\\n[citation needed]\\n\", '\\nJanuary 2015\\n\\n2015 Lower Hotham bushfire (Boddington)\\n\\nWestern Australia\\n\\n52,373\\n\\n129,420\\n\\nNil\\n\\n1\\n\\n1\\n\\n1 bridgeThousands of hectares of production forest (jarrah) or national parks\\n\\n[citation needed]\\n', '\\nOctober – November 2015\\n\\n2015 Esperance bushfires\\n\\nWestern Australia\\n\\n200,000\\n\\n490,000\\n\\n4\\n\\n10\\n\\nNil\\n\\n15,000 livestock5 Nature ReservesMost of Cape Arid National Park\\n\\n[64][65]\\n', '\\n15 – 24 November 2015\\n\\nPerth Hills bushfire complex – Solus Group\\n\\nWestern Australia\\n\\n10,016\\n\\n24,750\\n\\nNil\\n\\nNil\\n\\nNil\\n\\nJarrah production forest and Conservation Park\\n\\n[citation needed]\\n', '\\n25 November – 2 December 2015\\n\\n2015 Pinery bushfire\\n\\nSouth Australia\\n\\n85,000\\n\\n210,000\\n\\n2\\n\\n91\\n\\nNil\\n\\n\\n\\n[66][67]\\n', '\\nJanuary 2016\\n\\n2016 Murray Road bushfire (Waroona and Harvey)\\n\\nWestern Australia\\n\\n69,165\\n\\n170,910\\n\\n2\\n\\n181\\n\\nYarloop Workshops\\n\\nThousands of hectares of Lane Poole ReserveProduction forest (jarrah)\\n\\n[68]\\n', '\\n11 – 14 February 2017\\n\\n2017 New South Wales bushfires\\n\\nNew South Wales\\n\\n52,000\\n\\n130,000\\n\\nNil\\n\\n35\\n\\nNil\\n\\n\\n\\n[69]\\n', '\\nearly February 2019\\n\\nTingha bushfire\\n\\nNew South Wales\\n\\n23,419\\n\\n57,870\\n\\nNil\\n\\n19\\n\\n57\\n\\nLivestockVineyards\\n\\n[70][71]\\n', '\\n5 September 2019 – present\\n\\n2019–20 Australian bushfire season\\n\\nNationwide\\n\\n18,626,000\\n\\n46,030,000\\n\\n34[j]\\n\\napprox. 2,600[k]\\n\\napprox. 6,000\\n\\nAt least one billion wild animals are estimated to have died (not including frogs and insects) with some species thought to be facing extinction.\\n\\nArea[73] Other[74][75][76][77][78][79][80][81][82][83][84][85][86]\\n']\n"
     ]
    }
   ],
   "source": [
    "datarow = []\n",
    "data = []\n",
    "for row in table_row:\n",
    "    table_data = row.find\n",
    "    try:\n",
    "        value = row.text\n",
    "#         value = value.split(\"\\n\")\n",
    "        data.append(value)\n",
    "        \n",
    "    except AttributeError as e:\n",
    "        print(e)\n",
    "        \n",
    "print(row)"
   ]
  },
  {
   "cell_type": "code",
   "execution_count": 91,
   "metadata": {},
   "outputs": [
    {
     "ename": "ValueError",
     "evalue": "invalid literal for int() with base 10: '2!data-sort-type=\"date\"'",
     "output_type": "error",
     "traceback": [
      "\u001b[0;31m--------------------------------------------------------------------------\u001b[0m",
      "\u001b[0;31mValueError\u001b[0m                               Traceback (most recent call last)",
      "\u001b[0;32m<ipython-input-91-0c7efe647456>\u001b[0m in \u001b[0;36m<module>\u001b[0;34m\u001b[0m\n\u001b[0;32m----> 1\u001b[0;31m \u001b[0mtables\u001b[0m \u001b[0;34m=\u001b[0m \u001b[0mpd\u001b[0m\u001b[0;34m.\u001b[0m\u001b[0mread_html\u001b[0m\u001b[0;34m(\u001b[0m\u001b[0mhistoricalurl\u001b[0m\u001b[0;34m)\u001b[0m\u001b[0;34m\u001b[0m\u001b[0;34m\u001b[0m\u001b[0m\n\u001b[0m\u001b[1;32m      2\u001b[0m \u001b[0mtables\u001b[0m\u001b[0;34m\u001b[0m\u001b[0;34m\u001b[0m\u001b[0m\n",
      "\u001b[0;32m~/miniconda3/envs/PythonData/lib/python3.6/site-packages/pandas/io/html.py\u001b[0m in \u001b[0;36mread_html\u001b[0;34m(io, match, flavor, header, index_col, skiprows, attrs, parse_dates, thousands, encoding, decimal, converters, na_values, keep_default_na, displayed_only)\u001b[0m\n\u001b[1;32m   1103\u001b[0m         \u001b[0mna_values\u001b[0m\u001b[0;34m=\u001b[0m\u001b[0mna_values\u001b[0m\u001b[0;34m,\u001b[0m\u001b[0;34m\u001b[0m\u001b[0;34m\u001b[0m\u001b[0m\n\u001b[1;32m   1104\u001b[0m         \u001b[0mkeep_default_na\u001b[0m\u001b[0;34m=\u001b[0m\u001b[0mkeep_default_na\u001b[0m\u001b[0;34m,\u001b[0m\u001b[0;34m\u001b[0m\u001b[0;34m\u001b[0m\u001b[0m\n\u001b[0;32m-> 1105\u001b[0;31m         \u001b[0mdisplayed_only\u001b[0m\u001b[0;34m=\u001b[0m\u001b[0mdisplayed_only\u001b[0m\u001b[0;34m,\u001b[0m\u001b[0;34m\u001b[0m\u001b[0;34m\u001b[0m\u001b[0m\n\u001b[0m\u001b[1;32m   1106\u001b[0m     )\n",
      "\u001b[0;32m~/miniconda3/envs/PythonData/lib/python3.6/site-packages/pandas/io/html.py\u001b[0m in \u001b[0;36m_parse\u001b[0;34m(flavor, io, match, attrs, encoding, displayed_only, **kwargs)\u001b[0m\n\u001b[1;32m    913\u001b[0m \u001b[0;34m\u001b[0m\u001b[0m\n\u001b[1;32m    914\u001b[0m     \u001b[0mret\u001b[0m \u001b[0;34m=\u001b[0m \u001b[0;34m[\u001b[0m\u001b[0;34m]\u001b[0m\u001b[0;34m\u001b[0m\u001b[0;34m\u001b[0m\u001b[0m\n\u001b[0;32m--> 915\u001b[0;31m     \u001b[0;32mfor\u001b[0m \u001b[0mtable\u001b[0m \u001b[0;32min\u001b[0m \u001b[0mtables\u001b[0m\u001b[0;34m:\u001b[0m\u001b[0;34m\u001b[0m\u001b[0;34m\u001b[0m\u001b[0m\n\u001b[0m\u001b[1;32m    916\u001b[0m         \u001b[0;32mtry\u001b[0m\u001b[0;34m:\u001b[0m\u001b[0;34m\u001b[0m\u001b[0;34m\u001b[0m\u001b[0m\n\u001b[1;32m    917\u001b[0m             \u001b[0mret\u001b[0m\u001b[0;34m.\u001b[0m\u001b[0mappend\u001b[0m\u001b[0;34m(\u001b[0m\u001b[0m_data_to_frame\u001b[0m\u001b[0;34m(\u001b[0m\u001b[0mdata\u001b[0m\u001b[0;34m=\u001b[0m\u001b[0mtable\u001b[0m\u001b[0;34m,\u001b[0m \u001b[0;34m**\u001b[0m\u001b[0mkwargs\u001b[0m\u001b[0;34m)\u001b[0m\u001b[0;34m)\u001b[0m\u001b[0;34m\u001b[0m\u001b[0;34m\u001b[0m\u001b[0m\n",
      "\u001b[0;32m~/miniconda3/envs/PythonData/lib/python3.6/site-packages/pandas/io/html.py\u001b[0m in \u001b[0;36m<genexpr>\u001b[0;34m(.0)\u001b[0m\n\u001b[1;32m    211\u001b[0m         \"\"\"\n\u001b[1;32m    212\u001b[0m         \u001b[0mtables\u001b[0m \u001b[0;34m=\u001b[0m \u001b[0mself\u001b[0m\u001b[0;34m.\u001b[0m\u001b[0m_parse_tables\u001b[0m\u001b[0;34m(\u001b[0m\u001b[0mself\u001b[0m\u001b[0;34m.\u001b[0m\u001b[0m_build_doc\u001b[0m\u001b[0;34m(\u001b[0m\u001b[0;34m)\u001b[0m\u001b[0;34m,\u001b[0m \u001b[0mself\u001b[0m\u001b[0;34m.\u001b[0m\u001b[0mmatch\u001b[0m\u001b[0;34m,\u001b[0m \u001b[0mself\u001b[0m\u001b[0;34m.\u001b[0m\u001b[0mattrs\u001b[0m\u001b[0;34m)\u001b[0m\u001b[0;34m\u001b[0m\u001b[0;34m\u001b[0m\u001b[0m\n\u001b[0;32m--> 213\u001b[0;31m         \u001b[0;32mreturn\u001b[0m \u001b[0;34m(\u001b[0m\u001b[0mself\u001b[0m\u001b[0;34m.\u001b[0m\u001b[0m_parse_thead_tbody_tfoot\u001b[0m\u001b[0;34m(\u001b[0m\u001b[0mtable\u001b[0m\u001b[0;34m)\u001b[0m \u001b[0;32mfor\u001b[0m \u001b[0mtable\u001b[0m \u001b[0;32min\u001b[0m \u001b[0mtables\u001b[0m\u001b[0;34m)\u001b[0m\u001b[0;34m\u001b[0m\u001b[0;34m\u001b[0m\u001b[0m\n\u001b[0m\u001b[1;32m    214\u001b[0m \u001b[0;34m\u001b[0m\u001b[0m\n\u001b[1;32m    215\u001b[0m     \u001b[0;32mdef\u001b[0m \u001b[0m_attr_getter\u001b[0m\u001b[0;34m(\u001b[0m\u001b[0mself\u001b[0m\u001b[0;34m,\u001b[0m \u001b[0mobj\u001b[0m\u001b[0;34m,\u001b[0m \u001b[0mattr\u001b[0m\u001b[0;34m)\u001b[0m\u001b[0;34m:\u001b[0m\u001b[0;34m\u001b[0m\u001b[0;34m\u001b[0m\u001b[0m\n",
      "\u001b[0;32m~/miniconda3/envs/PythonData/lib/python3.6/site-packages/pandas/io/html.py\u001b[0m in \u001b[0;36m_parse_thead_tbody_tfoot\u001b[0;34m(self, table_html)\u001b[0m\n\u001b[1;32m    409\u001b[0m                 \u001b[0mheader_rows\u001b[0m\u001b[0;34m.\u001b[0m\u001b[0mappend\u001b[0m\u001b[0;34m(\u001b[0m\u001b[0mbody_rows\u001b[0m\u001b[0;34m.\u001b[0m\u001b[0mpop\u001b[0m\u001b[0;34m(\u001b[0m\u001b[0;36m0\u001b[0m\u001b[0;34m)\u001b[0m\u001b[0;34m)\u001b[0m\u001b[0;34m\u001b[0m\u001b[0;34m\u001b[0m\u001b[0m\n\u001b[1;32m    410\u001b[0m \u001b[0;34m\u001b[0m\u001b[0m\n\u001b[0;32m--> 411\u001b[0;31m         \u001b[0mheader\u001b[0m \u001b[0;34m=\u001b[0m \u001b[0mself\u001b[0m\u001b[0;34m.\u001b[0m\u001b[0m_expand_colspan_rowspan\u001b[0m\u001b[0;34m(\u001b[0m\u001b[0mheader_rows\u001b[0m\u001b[0;34m)\u001b[0m\u001b[0;34m\u001b[0m\u001b[0;34m\u001b[0m\u001b[0m\n\u001b[0m\u001b[1;32m    412\u001b[0m         \u001b[0mbody\u001b[0m \u001b[0;34m=\u001b[0m \u001b[0mself\u001b[0m\u001b[0;34m.\u001b[0m\u001b[0m_expand_colspan_rowspan\u001b[0m\u001b[0;34m(\u001b[0m\u001b[0mbody_rows\u001b[0m\u001b[0;34m)\u001b[0m\u001b[0;34m\u001b[0m\u001b[0;34m\u001b[0m\u001b[0m\n\u001b[1;32m    413\u001b[0m         \u001b[0mfooter\u001b[0m \u001b[0;34m=\u001b[0m \u001b[0mself\u001b[0m\u001b[0;34m.\u001b[0m\u001b[0m_expand_colspan_rowspan\u001b[0m\u001b[0;34m(\u001b[0m\u001b[0mfooter_rows\u001b[0m\u001b[0;34m)\u001b[0m\u001b[0;34m\u001b[0m\u001b[0;34m\u001b[0m\u001b[0m\n",
      "\u001b[0;32m~/miniconda3/envs/PythonData/lib/python3.6/site-packages/pandas/io/html.py\u001b[0m in \u001b[0;36m_expand_colspan_rowspan\u001b[0;34m(self, rows)\u001b[0m\n\u001b[1;32m    456\u001b[0m                 \u001b[0;31m# Append the text from this <td>, colspan times\u001b[0m\u001b[0;34m\u001b[0m\u001b[0;34m\u001b[0m\u001b[0;34m\u001b[0m\u001b[0m\n\u001b[1;32m    457\u001b[0m                 \u001b[0mtext\u001b[0m \u001b[0;34m=\u001b[0m \u001b[0m_remove_whitespace\u001b[0m\u001b[0;34m(\u001b[0m\u001b[0mself\u001b[0m\u001b[0;34m.\u001b[0m\u001b[0m_text_getter\u001b[0m\u001b[0;34m(\u001b[0m\u001b[0mtd\u001b[0m\u001b[0;34m)\u001b[0m\u001b[0;34m)\u001b[0m\u001b[0;34m\u001b[0m\u001b[0;34m\u001b[0m\u001b[0m\n\u001b[0;32m--> 458\u001b[0;31m                 \u001b[0mrowspan\u001b[0m \u001b[0;34m=\u001b[0m \u001b[0mint\u001b[0m\u001b[0;34m(\u001b[0m\u001b[0mself\u001b[0m\u001b[0;34m.\u001b[0m\u001b[0m_attr_getter\u001b[0m\u001b[0;34m(\u001b[0m\u001b[0mtd\u001b[0m\u001b[0;34m,\u001b[0m \u001b[0;34m\"rowspan\"\u001b[0m\u001b[0;34m)\u001b[0m \u001b[0;32mor\u001b[0m \u001b[0;36m1\u001b[0m\u001b[0;34m)\u001b[0m\u001b[0;34m\u001b[0m\u001b[0;34m\u001b[0m\u001b[0m\n\u001b[0m\u001b[1;32m    459\u001b[0m                 \u001b[0mcolspan\u001b[0m \u001b[0;34m=\u001b[0m \u001b[0mint\u001b[0m\u001b[0;34m(\u001b[0m\u001b[0mself\u001b[0m\u001b[0;34m.\u001b[0m\u001b[0m_attr_getter\u001b[0m\u001b[0;34m(\u001b[0m\u001b[0mtd\u001b[0m\u001b[0;34m,\u001b[0m \u001b[0;34m\"colspan\"\u001b[0m\u001b[0;34m)\u001b[0m \u001b[0;32mor\u001b[0m \u001b[0;36m1\u001b[0m\u001b[0;34m)\u001b[0m\u001b[0;34m\u001b[0m\u001b[0;34m\u001b[0m\u001b[0m\n\u001b[1;32m    460\u001b[0m \u001b[0;34m\u001b[0m\u001b[0m\n",
      "\u001b[0;31mValueError\u001b[0m: invalid literal for int() with base 10: '2!data-sort-type=\"date\"'"
     ]
    }
   ],
   "source": [
    "tables = pd.read_html(historicalurl)\n",
    "tables"
   ]
  },
  {
   "cell_type": "code",
   "execution_count": null,
   "metadata": {},
   "outputs": [],
   "source": []
  }
 ],
 "metadata": {
  "kernelspec": {
   "display_name": "Python 3",
   "language": "python",
   "name": "python3"
  },
  "language_info": {
   "codemirror_mode": {
    "name": "ipython",
    "version": 3
   },
   "file_extension": ".py",
   "mimetype": "text/x-python",
   "name": "python",
   "nbconvert_exporter": "python",
   "pygments_lexer": "ipython3",
   "version": "3.6.9"
  }
 },
 "nbformat": 4,
 "nbformat_minor": 2
}
